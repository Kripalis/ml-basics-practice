{
 "cells": [
  {
   "cell_type": "code",
   "execution_count": 1,
   "id": "b3f43c5f",
   "metadata": {
    "_cell_guid": "b1076dfc-b9ad-4769-8c92-a6c4dae69d19",
    "_uuid": "8f2839f25d086af736a60e9eeb907d3b93b6e0e5",
    "execution": {
     "iopub.execute_input": "2024-05-17T12:32:02.662669Z",
     "iopub.status.busy": "2024-05-17T12:32:02.662083Z",
     "iopub.status.idle": "2024-05-17T12:32:03.531726Z",
     "shell.execute_reply": "2024-05-17T12:32:03.530623Z"
    },
    "papermill": {
     "duration": 0.877159,
     "end_time": "2024-05-17T12:32:03.534378",
     "exception": false,
     "start_time": "2024-05-17T12:32:02.657219",
     "status": "completed"
    },
    "tags": []
   },
   "outputs": [],
   "source": [
    "# This Python 3 environment comes with many helpful analytics libraries installed\n",
    "# It is defined by the kaggle/python Docker image: https://github.com/kaggle/docker-python\n",
    "# For example, here's several helpful packages to load\n",
    "\n",
    "import numpy as np # linear algebra\n",
    "import pandas as pd # data processing, CSV file I/O (e.g. pd.read_csv)\n",
    "\n",
    "# Input data files are available in the read-only \"../input/\" directory\n",
    "# For example, running this (by clicking run or pressing Shift+Enter) will list all files under the input directory\n",
    "\n",
    "import os\n",
    "for dirname, _, filenames in os.walk('/kaggle/input'):\n",
    "    for filename in filenames:\n",
    "        print(os.path.join(dirname, filename))\n",
    "\n",
    "# You can write up to 20GB to the current directory (/kaggle/working/) that gets preserved as output when you create a version using \"Save & Run All\" \n",
    "# You can also write temporary files to /kaggle/temp/, but they won't be saved outside of the current session"
   ]
  },
  {
   "cell_type": "code",
   "execution_count": 2,
   "id": "cf4a9d77",
   "metadata": {
    "execution": {
     "iopub.execute_input": "2024-05-17T12:32:03.541600Z",
     "iopub.status.busy": "2024-05-17T12:32:03.541066Z",
     "iopub.status.idle": "2024-05-17T12:32:03.557663Z",
     "shell.execute_reply": "2024-05-17T12:32:03.556461Z"
    },
    "papermill": {
     "duration": 0.022561,
     "end_time": "2024-05-17T12:32:03.559963",
     "exception": false,
     "start_time": "2024-05-17T12:32:03.537402",
     "status": "completed"
    },
    "tags": []
   },
   "outputs": [
    {
     "name": "stdout",
     "output_type": "stream",
     "text": [
      "28.000000000000085\n"
     ]
    }
   ],
   "source": [
    "import pandas as pd \n",
    "import numpy as np\n",
    " \n",
    "class LR():\n",
    "\n",
    "    def __ilit__(self,N):\n",
    "        self.theta = np.zeros(N)\n",
    "\n",
    "    def train(self,X, Y):\n",
    "        np_X = np.array(X)\n",
    "        np_y = np.array(Y)\n",
    "\n",
    "        XT=np.transpose(X)\n",
    "        M1=np.linalg.inv(np.dot(XT,X))\n",
    "        M2=np.dot(XT,Y)\n",
    "        self.theta=np.dot(M1,M2)\n",
    "\n",
    "    def predict(self,X):\n",
    "        return np.dot(self.theta,X)\n",
    "    \n",
    "obj= LR()\n",
    "obj.train([[1,1],[2,3]],[4,8])\n",
    "print(obj.predict([7,8]))"
   ]
  }
 ],
 "metadata": {
  "kaggle": {
   "accelerator": "none",
   "dataSources": [],
   "dockerImageVersionId": 30698,
   "isGpuEnabled": false,
   "isInternetEnabled": false,
   "language": "python",
   "sourceType": "notebook"
  },
  "kernelspec": {
   "display_name": "Python 3",
   "language": "python",
   "name": "python3"
  },
  "language_info": {
   "codemirror_mode": {
    "name": "ipython",
    "version": 3
   },
   "file_extension": ".py",
   "mimetype": "text/x-python",
   "name": "python",
   "nbconvert_exporter": "python",
   "pygments_lexer": "ipython3",
   "version": "3.10.13"
  },
  "papermill": {
   "default_parameters": {},
   "duration": 4.09101,
   "end_time": "2024-05-17T12:32:03.982370",
   "environment_variables": {},
   "exception": null,
   "input_path": "__notebook__.ipynb",
   "output_path": "__notebook__.ipynb",
   "parameters": {},
   "start_time": "2024-05-17T12:31:59.891360",
   "version": "2.5.0"
  }
 },
 "nbformat": 4,
 "nbformat_minor": 5
}
